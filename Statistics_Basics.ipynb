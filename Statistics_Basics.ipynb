{
  "nbformat": 4,
  "nbformat_minor": 0,
  "metadata": {
    "colab": {
      "provenance": []
    },
    "kernelspec": {
      "name": "python3",
      "display_name": "Python 3"
    },
    "language_info": {
      "name": "python"
    }
  },
  "cells": [
    {
      "cell_type": "markdown",
      "source": [
        "# Explain the different types of data (qualitative and quantitative) and provide examples of each. Discuss nominal, ordinal, interval, and ratio scales.\n",
        "\n",
        "ans- Types of Data\n",
        "Qualitative Data:\n",
        "Definition: Describes non-numeric characteristics or categories.\n",
        "Examples:\n",
        "Nominal: Gender (Male, Female), Colors (Red, Blue).\n",
        "Ordinal: Movie ratings (Poor, Good, Excellent), Education level (High School, Bachelor’s, Master’s).\n",
        "Quantitative Data:\n",
        "Definition: Numerical data representing counts or measurements.\n",
        "Examples:\n",
        "Interval: Temperature in Celsius or Fahrenheit (no true zero).\n",
        "Ratio: Height, weight, income (true zero exists).\n",
        "\n",
        "\n",
        "# What are the measures of central tendency, and when should you use each? Discuss the mean, median,and mode with examples and situations where each is appropriate.\n",
        "\n",
        "ans-Measures of Central Tendency\n",
        "Mean: Average value (e.g., test scores).\n",
        "Use when data is symmetric and has no outliers.\n",
        "Median: Middle value when sorted.\n",
        "Use for skewed data or when outliers are present.\n",
        "Mode: Most frequent value.\n",
        "Use for categorical data or to identify common trends.\n",
        "\n",
        "\n",
        "#  Explain the concept of dispersion. How do variance and standard deviation measure the spread of data?\n",
        "\n",
        "ans- Concept of Dispersion\n",
        "Definition: Spread of data around a central value.\n",
        "Measures:\n",
        "Variance: Average squared deviation from the mean.\n",
        "Standard Deviation: Square root of variance, showing average deviation in the same units as data.\n",
        "\n",
        "\n",
        "#What is a box plot, and what can it tell you about the distribution of data?\n",
        "\n",
        "ans- Box Plot\n",
        "Definition: Visual representation of data distribution.\n",
        "Components: Median, quartiles, and potential outliers.\n",
        "Usage: Identifies skewness, spread, and outliers.\n",
        "\n",
        "\n",
        "# Discuss the role of random sampling in making inferences about populations.\n",
        "\n",
        "ans- Random Sampling\n",
        "Definition: Selecting a subset of a population where every member has an equal chance of being chosen.\n",
        "Purpose: Ensures unbiased representation to make inferences about the population\n",
        "\n",
        "\n",
        "# . Explain the concept of skewness and its types. How does skewness affect the interpretation of data?\n",
        "\n",
        "ans- Skewness\n",
        "Definition: Measure of asymmetry in a data distribution.\n",
        "Positive Skew: Long right tail (e.g., income data).\n",
        "Negative Skew: Long left tail (e.g., age at retirement).\n",
        "Impact: Affects mean and median; mean shifts towards the tail.\n",
        "\n",
        "\n",
        "#  What is the interquartile range (IQR), and how is it used to detect outliers?\n",
        "\n",
        "ans- Interquartile Range (IQR)\n",
        "Definition: Difference between the third quartile (Q3) and first quartile (Q1).\n",
        "IQR = Q3 - Q1.\n",
        "Use: Detects outliers (values < Q1 - 1.5×IQR or > Q3 + 1.5×IQR).\n",
        "\n",
        "# Discuss the conditions under which the binomial distribution is used\n",
        "\n",
        "ans- Binomial Distribution\n",
        "Conditions:\n",
        "Fixed number of trials.\n",
        "Each trial has two outcomes (success/failure).\n",
        "Trials are independent.\n",
        "Probability of success remains constant.\n",
        "Example: Tossing a coin 10 times.\n",
        "\n",
        "# Explain the properties of the normal distribution and the empirical rule (68-95-99.7 rule)\n",
        "\n",
        "ans- Normal Distribution & Empirical Rule\n",
        "Properties:\n",
        "Bell-shaped curve, symmetric about the mean.\n",
        "Mean = Median = Mode.\n",
        "Empirical Rule:\n",
        "68% of data within 1 SD.\n",
        "95% within 2 SDs.\n",
        "99.7% within 3 SDs.\n",
        "\n",
        "\n",
        "\n",
        "#  Explain what a random variable is and differentiate between discrete and continuous random variables.\n",
        "\n",
        "ans-Random Variables\n",
        "Definition: Numerical outcome of a random phenomenon.\n",
        "Discrete: Countable (e.g., dice rolls).\n",
        "Continuous: Infinite outcomes in a range (e.g., height).\n",
        "\n",
        "#  Provide an example dataset, calculate both covariance and correlation, and interpret the results.\n",
        "\n",
        "ans- Covariance and Correlation\n",
        "Example Dataset:\n",
        "X\tY\n",
        "1\t2\n",
        "2\t4\n",
        "3\t6\n",
        "Covariance: Measures joint variability.\n",
        "Correlation: Scaled covariance (-1 to 1)."
      ],
      "metadata": {
        "id": "nPGouPUSb0RF"
      }
    },
    {
      "cell_type": "markdown",
      "source": [
        "Provide a real-life example of a Poisson process and calculate the probability for a specific event."
      ],
      "metadata": {
        "id": "1OrD274gfyZ0"
      }
    },
    {
      "cell_type": "code",
      "source": [
        "import math\n",
        "\n",
        "# Parameters\n",
        "lambda_rate = 10  # average calls per hour\n",
        "k = 7  # number of calls\n",
        "\n",
        "# Poisson probability calculation\n",
        "probability = (math.exp(-lambda_rate) * lambda_rate**k) / math.factorial(k)\n",
        "\n",
        "print(f\"The probability of receiving exactly {k} calls in an hour is {probability:.4f}\")\n"
      ],
      "metadata": {
        "colab": {
          "base_uri": "https://localhost:8080/"
        },
        "id": "Y8-qtC0JfuWl",
        "outputId": "e328d400-851d-42b7-b00e-096016311474"
      },
      "execution_count": 1,
      "outputs": [
        {
          "output_type": "stream",
          "name": "stdout",
          "text": [
            "The probability of receiving exactly 7 calls in an hour is 0.0901\n"
          ]
        }
      ]
    }
  ]
}